{
  "nbformat": 4,
  "nbformat_minor": 0,
  "metadata": {
    "colab": {
      "name": "Untitled15.ipynb",
      "provenance": [],
      "collapsed_sections": [],
      "authorship_tag": "ABX9TyPHZUrkKDKGQOMOLPzcFXBo",
      "include_colab_link": true
    },
    "kernelspec": {
      "name": "python3",
      "display_name": "Python 3"
    }
  },
  "cells": [
    {
      "cell_type": "markdown",
      "metadata": {
        "id": "view-in-github",
        "colab_type": "text"
      },
      "source": [
        "<a href=\"https://colab.research.google.com/github/Aashvath/Class39/blob/main/Untitled15.ipynb\" target=\"_parent\"><img src=\"https://colab.research.google.com/assets/colab-badge.svg\" alt=\"Open In Colab\"/></a>"
      ]
    },
    {
      "cell_type": "code",
      "metadata": {
        "colab": {
          "base_uri": "https://localhost:8080/"
        },
        "id": "d7gRjLbDV-kZ",
        "outputId": "459f2483-bf53-4f17-ec5f-c3205aa88760"
      },
      "source": [
        "print(\"1.Triangle\")\n",
        "print(\"2.Rectangle\")\n",
        "print(\"3.Square\")\n",
        "print(\"4.Circle\")\n",
        "ch=int(input(\"enter your choice:\"))\n",
        "if ch==1:\n",
        "   print(\"a. perimeter\")\n",
        "   print(\"b.area\")\n",
        "   ch1=input(\"enter your choice:\")\n",
        "   if ch1==\"a\":\n",
        "     s=float(input(\"enter side:\"))\n",
        "     print(\"perimeter is:,\",s*3)\n",
        "   if ch1==\"b\":\n",
        "     b=float(input(\"enter base:\"))\n",
        "     h=float(input(\"enter height:\"))\n",
        "     print(\"area is:\",0.5*b*h)\n",
        "elif ch==2:\n",
        "   print(\"a. perimeter\")\n",
        "   print(\"b.area\")\n",
        "   ch1=input(\"enter your choice\")\n",
        "   if ch1==\"a\":\n",
        "     l=float(input(\"enter length\"))\n",
        "     b=float(input(\"enter breadth\"))\n",
        "     print(\"perimeter is:,\",2*(l+b))\n",
        "   if ch1==\"b\":\n",
        "     l=float(input(\"enter length:\"))\n",
        "     b=float(input(\"enter breadth:\"))\n",
        "     print(\"area is:\",l*b)\n",
        "elif ch==3:\n",
        "   print(\"a. perimeter\")\n",
        "   print(\"b.area\")\n",
        "   ch1=input(\"enter your choice:\")\n",
        "   if ch1==\"a\":\n",
        "     s=int(input(\"enter side:\"))\n",
        "     print(\"perimeter is:,\",4*s)\n",
        "   if ch1==\"b\":\n",
        "     s=int(input(\"enter side:\"))\n",
        "     print(\"area is:\",s*s)\n",
        "else:\n",
        "   print(\"a. perimeter\")\n",
        "   print(\"b.area\")\n",
        "   ch1=input(\"enter your choice\")\n",
        "   if ch1==\"a\":\n",
        "     r=int(input(\"enter radius\"))\n",
        "     print(\"perimeter is:,\",2*3.14*r)\n",
        "   if ch1==\"b\":\n",
        "     r=int(input(\"enter radius\"))\n",
        "     print(\"area is:\",3.14*r*r)\n",
        "\n",
        "\n",
        "\n"
      ],
      "execution_count": 17,
      "outputs": [
        {
          "output_type": "stream",
          "text": [
            "1.Triangle\n",
            "2.Rectangle\n",
            "3.Square\n",
            "4.Circle\n",
            "enter your choice:2\n",
            "a. perimeter\n",
            "b.area\n",
            "enter your choiceb\n",
            "enter length:9\n",
            "enter breadth:4\n",
            "area is: 36.0\n"
          ],
          "name": "stdout"
        }
      ]
    }
  ]
}